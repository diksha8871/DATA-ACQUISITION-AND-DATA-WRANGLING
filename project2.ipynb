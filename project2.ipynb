{
 "cells": [
  {
   "cell_type": "code",
   "execution_count": null,
   "id": "bad635a4-e21b-46ba-86c3-a37ca155f4da",
   "metadata": {},
   "outputs": [],
   "source": [
    "import pandas as pd\n",
    "import numpy as np"
   ]
  },
  {
   "cell_type": "code",
   "execution_count": 9,
   "id": "22b25c15-eedc-4613-a330-5ed4136be57b",
   "metadata": {},
   "outputs": [],
   "source": [
    "# Step 1: Load dataset_1.xlsx\n",
    "dataset1 = pd.read_excel(\"dataset_1.xlsx\")\n"
   ]
  },
  {
   "cell_type": "code",
   "execution_count": 10,
   "id": "403283df-16b8-4827-b22e-927c69ff9c52",
   "metadata": {},
   "outputs": [],
   "source": [
    "# Step 2: Load dataset_2.xlsx\n",
    "dataset2 = pd.read_excel(\"dataset_2.xlsx\")"
   ]
  },
  {
   "cell_type": "code",
   "execution_count": 11,
   "id": "bffc2408-45fa-48d9-8c8b-da9618cd0a55",
   "metadata": {},
   "outputs": [
    {
     "name": "stdout",
     "output_type": "stream",
     "text": [
      "Dataset 1 preview:\n",
      "   instant     dteday  season  yr  mnth  hr  holiday  weekday  weathersit  \\\n",
      "0        1 2011-01-01       1   0     1   0    False        6           1   \n",
      "1        2 2011-01-01       1   0     1   1    False        6           1   \n",
      "2        3 2011-01-01       1   0     1   2    False        6           1   \n",
      "3        4 2011-01-01       1   0     1   3    False        6           1   \n",
      "4        5 2011-01-01       1   0     1   4    False        6           1   \n",
      "\n",
      "   temp  \n",
      "0  0.24  \n",
      "1  0.22  \n",
      "2  0.22  \n",
      "3  0.24  \n",
      "4  0.24   \n",
      "\n"
     ]
    }
   ],
   "source": [
    "print(\"Dataset 1 preview:\")\n",
    "print(dataset1.head(), \"\\n\")"
   ]
  },
  {
   "cell_type": "code",
   "execution_count": 12,
   "id": "433f8700-4a53-4324-9b5d-fafad23176f4",
   "metadata": {},
   "outputs": [
    {
     "name": "stdout",
     "output_type": "stream",
     "text": [
      "Dataset 2 preview:\n",
      "   Unnamed: 0  instant   atemp   hum  windspeed  casual  registered  cnt\n",
      "0           0        1  0.2879  0.81        0.0       3          13   16\n",
      "1           1        2  0.2727  0.80        0.0       8          32   40\n",
      "2           2        3  0.2727  0.80        0.0       5          27   32\n",
      "3           3        4  0.2879  0.75        0.0       3          10   13\n",
      "4           4        5  0.2879  0.75        0.0       0           1    1 \n",
      "\n"
     ]
    }
   ],
   "source": [
    "print(\"Dataset 2 preview:\")\n",
    "print(dataset2.head(), \"\\n\")"
   ]
  },
  {
   "cell_type": "code",
   "execution_count": 13,
   "id": "e937e9de-2c00-4650-be00-278d7324adb3",
   "metadata": {},
   "outputs": [
    {
     "name": "stdout",
     "output_type": "stream",
     "text": [
      "Missing values in Dataset 1:\n",
      "instant       0\n",
      "dteday        0\n",
      "season        0\n",
      "yr            0\n",
      "mnth          0\n",
      "hr            0\n",
      "holiday       0\n",
      "weekday       0\n",
      "weathersit    0\n",
      "temp          0\n",
      "dtype: int64 \n",
      "\n"
     ]
    }
   ],
   "source": [
    "print(\"Missing values in Dataset 1:\")\n",
    "print(dataset1.isnull().sum(), \"\\n\")"
   ]
  },
  {
   "cell_type": "code",
   "execution_count": 14,
   "id": "514eba5a-434f-4c80-97f5-4db4feacb1a0",
   "metadata": {},
   "outputs": [
    {
     "name": "stdout",
     "output_type": "stream",
     "text": [
      "Missing values in Dataset 2:\n",
      "Unnamed: 0     0\n",
      "instant        0\n",
      "atemp         11\n",
      "hum            0\n",
      "windspeed      0\n",
      "casual         0\n",
      "registered     0\n",
      "cnt            0\n",
      "dtype: int64 \n",
      "\n"
     ]
    }
   ],
   "source": [
    "print(\"Missing values in Dataset 2:\")\n",
    "print(dataset2.isnull().sum(), \"\\n\")"
   ]
  },
  {
   "cell_type": "code",
   "execution_count": 15,
   "id": "763a4ade-4e8a-4d9f-8146-35bd2bce3c31",
   "metadata": {},
   "outputs": [
    {
     "name": "stdout",
     "output_type": "stream",
     "text": [
      "Dataset 1 columns: ['instant', 'dteday', 'season', 'yr', 'mnth', 'hr', 'holiday', 'weekday', 'weathersit', 'temp']\n",
      "Dataset 2 columns: ['Unnamed: 0', 'instant', 'atemp', 'hum', 'windspeed', 'casual', 'registered', 'cnt']\n"
     ]
    }
   ],
   "source": [
    "# Step 5: Check column names\n",
    "print(\"Dataset 1 columns:\", dataset1.columns.tolist())\n",
    "print(\"Dataset 2 columns:\", dataset2.columns.tolist())"
   ]
  },
  {
   "cell_type": "code",
   "execution_count": 16,
   "id": "66bfa362-6012-4879-8b31-6ad14df9e607",
   "metadata": {},
   "outputs": [],
   "source": [
    "combine_data = pd.merge(dataset1, dataset2, on='instant')"
   ]
  },
  {
   "cell_type": "code",
   "execution_count": 17,
   "id": "daaa0a13-388a-487b-a103-5a569ae18d8d",
   "metadata": {},
   "outputs": [
    {
     "name": "stdout",
     "output_type": "stream",
     "text": [
      "Combined dataset preview:\n",
      "   instant     dteday  season  yr  mnth  hr  holiday  weekday  weathersit  \\\n",
      "0        1 2011-01-01       1   0     1   0    False        6           1   \n",
      "1        2 2011-01-01       1   0     1   1    False        6           1   \n",
      "2        3 2011-01-01       1   0     1   2    False        6           1   \n",
      "3        4 2011-01-01       1   0     1   3    False        6           1   \n",
      "4        5 2011-01-01       1   0     1   4    False        6           1   \n",
      "\n",
      "   temp  Unnamed: 0   atemp   hum  windspeed  casual  registered  cnt  \n",
      "0  0.24           0  0.2879  0.81        0.0       3          13   16  \n",
      "1  0.22           1  0.2727  0.80        0.0       8          32   40  \n",
      "2  0.22           2  0.2727  0.80        0.0       5          27   32  \n",
      "3  0.24           3  0.2879  0.75        0.0       3          10   13  \n",
      "4  0.24           4  0.2879  0.75        0.0       0           1    1  \n"
     ]
    }
   ],
   "source": [
    "print(\"Combined dataset preview:\")\n",
    "print(combine_data.head())"
   ]
  },
  {
   "cell_type": "code",
   "execution_count": 18,
   "id": "11a954e5-52a4-4e28-b5f9-cde00ba99ac2",
   "metadata": {},
   "outputs": [
    {
     "name": "stdout",
     "output_type": "stream",
     "text": [
      "Number of unique values in each column:\n",
      "\n",
      "instant       610\n",
      "dteday         28\n",
      "season          1\n",
      "yr              1\n",
      "mnth            1\n",
      "hr             24\n",
      "holiday         2\n",
      "weekday         7\n",
      "weathersit      4\n",
      "temp           23\n",
      "Unnamed: 0    610\n",
      "atemp          29\n",
      "hum            61\n",
      "windspeed      20\n",
      "casual         32\n",
      "registered    150\n",
      "cnt           165\n",
      "dtype: int64\n"
     ]
    }
   ],
   "source": [
    "unique_counts = combine_data.nunique()\n",
    "print(\"Number of unique values in each column:\\n\")\n",
    "print(unique_counts)"
   ]
  },
  {
   "cell_type": "code",
   "execution_count": 19,
   "id": "b973d3f9-056d-41ba-876a-d5d0d50a0d06",
   "metadata": {},
   "outputs": [
    {
     "name": "stdout",
     "output_type": "stream",
     "text": [
      "Remaining columns after drop:\n",
      "Index(['instant', 'dteday', 'season', 'yr', 'mnth', 'hr', 'holiday', 'weekday',\n",
      "       'weathersit', 'temp', 'atemp', 'hum', 'windspeed', 'casual',\n",
      "       'registered', 'cnt'],\n",
      "      dtype='object')\n"
     ]
    }
   ],
   "source": [
    "# List of columns to drop (edit this based on your dataset)\n",
    "columns_to_drop = ['Unnamed: 0', 'atemp_y', 'hum_y', 'windspeed_y', 'casual_y', 'registered_y', 'cnt_y']\n",
    "\n",
    "# Drop only columns that actually exist in the DataFrame\n",
    "combine_data_cleaned = combine_data.drop(columns=[col for col in columns_to_drop if col in combine_data.columns])\n",
    "\n",
    "# Show remaining columns\n",
    "print(\"Remaining columns after drop:\")\n",
    "print(combine_data_cleaned.columns)"
   ]
  },
  {
   "cell_type": "code",
   "execution_count": 20,
   "id": "fe0aea11-84d3-4d95-bd08-323dee87d306",
   "metadata": {},
   "outputs": [
    {
     "name": "stdout",
     "output_type": "stream",
     "text": [
      "     instant     dteday  season  yr  mnth  hr  holiday  weekday  weathersit  \\\n",
      "0          1 2011-01-01       1   0     1   0    False        6           1   \n",
      "1          2 2011-01-01       1   0     1   1    False        6           1   \n",
      "2          3 2011-01-01       1   0     1   2    False        6           1   \n",
      "3          4 2011-01-01       1   0     1   3    False        6           1   \n",
      "4          5 2011-01-01       1   0     1   4    False        6           1   \n",
      "..       ...        ...     ...  ..   ...  ..      ...      ...         ...   \n",
      "605      606 2011-01-28       1   0     1  11    False        5           3   \n",
      "606      607 2011-01-28       1   0     1  12    False        5           3   \n",
      "607      608 2011-01-28       1   0     1  13    False        5           3   \n",
      "608      609 2011-01-28       1   0     1  14    False        5           3   \n",
      "609      610 2011-01-28       1   0     1  15    False        5           2   \n",
      "\n",
      "     temp   atemp   hum  windspeed  casual  registered  cnt  \n",
      "0    0.24  0.2879  0.81     0.0000       3          13   16  \n",
      "1    0.22  0.2727  0.80     0.0000       8          32   40  \n",
      "2    0.22  0.2727  0.80     0.0000       5          27   32  \n",
      "3    0.24  0.2879  0.75     0.0000       3          10   13  \n",
      "4    0.24  0.2879  0.75     0.0000       0           1    1  \n",
      "..    ...     ...   ...        ...     ...         ...  ...  \n",
      "605  0.18  0.2121  0.93     0.1045       0          30   30  \n",
      "606  0.18  0.2121  0.93     0.1045       1          28   29  \n",
      "607  0.18  0.2121  0.93     0.1045       0          31   31  \n",
      "608  0.22  0.2727  0.80     0.0000       2          36   38  \n",
      "609  0.20  0.2576  0.86     0.0000       1          40   41  \n",
      "\n",
      "[610 rows x 16 columns]\n"
     ]
    }
   ],
   "source": [
    "print(combine_data_cleaned)"
   ]
  },
  {
   "cell_type": "code",
   "execution_count": 21,
   "id": "c48bbb31-edef-494b-8c48-54b6e06055e8",
   "metadata": {},
   "outputs": [
    {
     "name": "stdout",
     "output_type": "stream",
     "text": [
      "(610, 16)\n"
     ]
    }
   ],
   "source": [
    "print(combine_data_cleaned.shape)"
   ]
  },
  {
   "cell_type": "code",
   "execution_count": 22,
   "id": "3f243dd7-73ee-4f8f-a55e-edb5a40317da",
   "metadata": {},
   "outputs": [
    {
     "name": "stdout",
     "output_type": "stream",
     "text": [
      "instant                int64\n",
      "dteday        datetime64[ns]\n",
      "season                 int64\n",
      "yr                     int64\n",
      "mnth                   int64\n",
      "hr                     int64\n",
      "holiday                 bool\n",
      "weekday                int64\n",
      "weathersit             int64\n",
      "temp                 float64\n",
      "atemp                float64\n",
      "hum                  float64\n",
      "windspeed            float64\n",
      "casual                 int64\n",
      "registered             int64\n",
      "cnt                    int64\n",
      "dtype: object\n"
     ]
    }
   ],
   "source": [
    "print(combine_data_cleaned.dtypes)"
   ]
  },
  {
   "cell_type": "code",
   "execution_count": 23,
   "id": "007c10e5-51c8-4d8d-9a73-0eb3566b5b6f",
   "metadata": {},
   "outputs": [
    {
     "name": "stdout",
     "output_type": "stream",
     "text": [
      "int64             10\n",
      "float64            4\n",
      "datetime64[ns]     1\n",
      "bool               1\n",
      "Name: count, dtype: int64\n"
     ]
    }
   ],
   "source": [
    "print(combine_data_cleaned.dtypes.value_counts())"
   ]
  },
  {
   "cell_type": "code",
   "execution_count": 24,
   "id": "0f9465fd-4b8f-480c-b627-cf1b4e914b99",
   "metadata": {},
   "outputs": [
    {
     "name": "stdout",
     "output_type": "stream",
     "text": [
      "True\n"
     ]
    }
   ],
   "source": [
    "print(combine_data_cleaned.isnull().values.any())"
   ]
  },
  {
   "cell_type": "code",
   "execution_count": 25,
   "id": "d0af7fe7-6156-40a7-a631-253b0f432a18",
   "metadata": {},
   "outputs": [
    {
     "name": "stdout",
     "output_type": "stream",
     "text": [
      "     instant  dteday  season     yr   mnth     hr  holiday  weekday  \\\n",
      "0      False   False   False  False  False  False    False    False   \n",
      "1      False   False   False  False  False  False    False    False   \n",
      "2      False   False   False  False  False  False    False    False   \n",
      "3      False   False   False  False  False  False    False    False   \n",
      "4      False   False   False  False  False  False    False    False   \n",
      "..       ...     ...     ...    ...    ...    ...      ...      ...   \n",
      "605    False   False   False  False  False  False    False    False   \n",
      "606    False   False   False  False  False  False    False    False   \n",
      "607    False   False   False  False  False  False    False    False   \n",
      "608    False   False   False  False  False  False    False    False   \n",
      "609    False   False   False  False  False  False    False    False   \n",
      "\n",
      "     weathersit   temp  atemp    hum  windspeed  casual  registered    cnt  \n",
      "0         False  False  False  False      False   False       False  False  \n",
      "1         False  False  False  False      False   False       False  False  \n",
      "2         False  False  False  False      False   False       False  False  \n",
      "3         False  False  False  False      False   False       False  False  \n",
      "4         False  False  False  False      False   False       False  False  \n",
      "..          ...    ...    ...    ...        ...     ...         ...    ...  \n",
      "605       False  False  False  False      False   False       False  False  \n",
      "606       False  False  False  False      False   False       False  False  \n",
      "607       False  False  False  False      False   False       False  False  \n",
      "608       False  False  False  False      False   False       False  False  \n",
      "609       False  False  False  False      False   False       False  False  \n",
      "\n",
      "[610 rows x 16 columns]\n"
     ]
    }
   ],
   "source": [
    "print(combine_data_cleaned.isnull())"
   ]
  },
  {
   "cell_type": "code",
   "execution_count": 26,
   "id": "8d4e1c52-e114-44cc-949e-80db33fbfc4d",
   "metadata": {},
   "outputs": [
    {
     "name": "stdout",
     "output_type": "stream",
     "text": [
      "instant        0\n",
      "dteday         0\n",
      "season         0\n",
      "yr             0\n",
      "mnth           0\n",
      "hr             0\n",
      "holiday        0\n",
      "weekday        0\n",
      "weathersit     0\n",
      "temp           0\n",
      "atemp         11\n",
      "hum            0\n",
      "windspeed      0\n",
      "casual         0\n",
      "registered     0\n",
      "cnt            0\n",
      "dtype: int64\n"
     ]
    }
   ],
   "source": [
    "print(combine_data_cleaned.isnull().sum())"
   ]
  },
  {
   "cell_type": "code",
   "execution_count": 27,
   "id": "2ab03463-0c5d-415b-8fe9-a9456b991724",
   "metadata": {},
   "outputs": [
    {
     "name": "stdout",
     "output_type": "stream",
     "text": [
      "     instant     dteday  season  yr  mnth  hr  holiday  weekday  weathersit  \\\n",
      "0          1 2011-01-01       1   0     1   0    False        6           1   \n",
      "1          2 2011-01-01       1   0     1   1    False        6           1   \n",
      "2          3 2011-01-01       1   0     1   2    False        6           1   \n",
      "3          4 2011-01-01       1   0     1   3    False        6           1   \n",
      "4          5 2011-01-01       1   0     1   4    False        6           1   \n",
      "..       ...        ...     ...  ..   ...  ..      ...      ...         ...   \n",
      "605      606 2011-01-28       1   0     1  11    False        5           3   \n",
      "606      607 2011-01-28       1   0     1  12    False        5           3   \n",
      "607      608 2011-01-28       1   0     1  13    False        5           3   \n",
      "608      609 2011-01-28       1   0     1  14    False        5           3   \n",
      "609      610 2011-01-28       1   0     1  15    False        5           2   \n",
      "\n",
      "     temp   atemp   hum  windspeed  casual  registered  cnt  \n",
      "0    0.24  0.2879  0.81     0.0000       3          13   16  \n",
      "1    0.22  0.2727  0.80     0.0000       8          32   40  \n",
      "2    0.22  0.2727  0.80     0.0000       5          27   32  \n",
      "3    0.24  0.2879  0.75     0.0000       3          10   13  \n",
      "4    0.24  0.2879  0.75     0.0000       0           1    1  \n",
      "..    ...     ...   ...        ...     ...         ...  ...  \n",
      "605  0.18  0.2121  0.93     0.1045       0          30   30  \n",
      "606  0.18  0.2121  0.93     0.1045       1          28   29  \n",
      "607  0.18  0.2121  0.93     0.1045       0          31   31  \n",
      "608  0.22  0.2727  0.80     0.0000       2          36   38  \n",
      "609  0.20  0.2576  0.86     0.0000       1          40   41  \n",
      "\n",
      "[610 rows x 16 columns]\n"
     ]
    }
   ],
   "source": [
    "print(combine_data_cleaned)"
   ]
  },
  {
   "cell_type": "code",
   "execution_count": 28,
   "id": "69336f61-b93e-4f0c-91ae-1a93718d73a8",
   "metadata": {},
   "outputs": [],
   "source": [
    "#Since the column \"atemp\" has 11 null values, so we consider dropping this column as it isnt critical as well for our analysis\n",
    "cleaned_data = combine_data_cleaned.drop('atemp',axis=1)"
   ]
  },
  {
   "cell_type": "code",
   "execution_count": 29,
   "id": "037bc5b7-bdc0-457a-a74a-216fc481a4ce",
   "metadata": {},
   "outputs": [
    {
     "name": "stdout",
     "output_type": "stream",
     "text": [
      "     instant     dteday  season  yr  mnth  hr  holiday  weekday  weathersit  \\\n",
      "0          1 2011-01-01       1   0     1   0    False        6           1   \n",
      "1          2 2011-01-01       1   0     1   1    False        6           1   \n",
      "2          3 2011-01-01       1   0     1   2    False        6           1   \n",
      "3          4 2011-01-01       1   0     1   3    False        6           1   \n",
      "4          5 2011-01-01       1   0     1   4    False        6           1   \n",
      "..       ...        ...     ...  ..   ...  ..      ...      ...         ...   \n",
      "605      606 2011-01-28       1   0     1  11    False        5           3   \n",
      "606      607 2011-01-28       1   0     1  12    False        5           3   \n",
      "607      608 2011-01-28       1   0     1  13    False        5           3   \n",
      "608      609 2011-01-28       1   0     1  14    False        5           3   \n",
      "609      610 2011-01-28       1   0     1  15    False        5           2   \n",
      "\n",
      "     temp   hum  windspeed  casual  registered  cnt  \n",
      "0    0.24  0.81     0.0000       3          13   16  \n",
      "1    0.22  0.80     0.0000       8          32   40  \n",
      "2    0.22  0.80     0.0000       5          27   32  \n",
      "3    0.24  0.75     0.0000       3          10   13  \n",
      "4    0.24  0.75     0.0000       0           1    1  \n",
      "..    ...   ...        ...     ...         ...  ...  \n",
      "605  0.18  0.93     0.1045       0          30   30  \n",
      "606  0.18  0.93     0.1045       1          28   29  \n",
      "607  0.18  0.93     0.1045       0          31   31  \n",
      "608  0.22  0.80     0.0000       2          36   38  \n",
      "609  0.20  0.86     0.0000       1          40   41  \n",
      "\n",
      "[610 rows x 15 columns]\n"
     ]
    }
   ],
   "source": [
    "print(cleaned_data)"
   ]
  },
  {
   "cell_type": "code",
   "execution_count": 30,
   "id": "7c59f60c-dd84-4bfb-a7c0-d825137ffdb0",
   "metadata": {},
   "outputs": [
    {
     "name": "stdout",
     "output_type": "stream",
     "text": [
      "instant       0\n",
      "dteday        0\n",
      "season        0\n",
      "yr            0\n",
      "mnth          0\n",
      "hr            0\n",
      "holiday       0\n",
      "weekday       0\n",
      "weathersit    0\n",
      "temp          0\n",
      "hum           0\n",
      "windspeed     0\n",
      "casual        0\n",
      "registered    0\n",
      "cnt           0\n",
      "dtype: int64\n"
     ]
    }
   ],
   "source": [
    "print(cleaned_data.isnull().sum())"
   ]
  },
  {
   "cell_type": "code",
   "execution_count": 31,
   "id": "3f2d0813-90c4-4d7c-985b-9071e83d630f",
   "metadata": {},
   "outputs": [
    {
     "name": "stdout",
     "output_type": "stream",
     "text": [
      "is instant unique: True\n"
     ]
    }
   ],
   "source": [
    "#Validations \n",
    "#Checking if there is any duplication issue, since value is true so there is no duplication issue\n",
    "is_unique = cleaned_data['instant'].is_unique\n",
    "print(\"is instant unique:\", is_unique)"
   ]
  },
  {
   "cell_type": "code",
   "execution_count": 32,
   "id": "dcaee753-1584-4366-b401-ee938cadc53f",
   "metadata": {},
   "outputs": [
    {
     "name": "stdout",
     "output_type": "stream",
     "text": [
      "instant    0\n",
      "dteday     0\n",
      "cnt        0\n",
      "dtype: int64\n"
     ]
    }
   ],
   "source": [
    "#Check for nulls in critical columns, All should be 0 for proper tracking of time and counts.\n",
    "print(cleaned_data[['instant', 'dteday', 'cnt']].isnull().sum())"
   ]
  },
  {
   "cell_type": "code",
   "execution_count": 33,
   "id": "c8110c8a-ba16-4d0d-a381-a8425647044e",
   "metadata": {},
   "outputs": [],
   "source": [
    "cleaned_data['dteday'] = pd.to_datetime(cleaned_data['dteday'], errors='coerce')"
   ]
  },
  {
   "cell_type": "code",
   "execution_count": 34,
   "id": "94e4d14f-7809-44e3-beef-cf69971d55b2",
   "metadata": {},
   "outputs": [
    {
     "name": "stdout",
     "output_type": "stream",
     "text": [
      "0\n"
     ]
    }
   ],
   "source": [
    "#if returns 0 then it means no invalid Dates exist\n",
    "print(cleaned_data['dteday'].isnull().sum())"
   ]
  },
  {
   "cell_type": "code",
   "execution_count": 35,
   "id": "4ab5fb0c-c25e-4106-ab7e-8d88a206fa61",
   "metadata": {},
   "outputs": [
    {
     "name": "stdout",
     "output_type": "stream",
     "text": [
      "[1]\n",
      "[0]\n",
      "True\n",
      "True\n",
      "True\n",
      "[1 2 3 4]\n"
     ]
    }
   ],
   "source": [
    "#valid value ranges to be checked which are given in the comments\n",
    "print(cleaned_data['season'].unique())        # Should be [1, 2, 3, 4]\n",
    "print(cleaned_data['yr'].unique())            # Usually 0 or 1 (2011 or 2012)\n",
    "print(cleaned_data['mnth'].between(1, 12).all())  # All should be True\n",
    "print(cleaned_data['hr'].between(0, 23).all())    # All should be True\n",
    "print(cleaned_data['weekday'].between(0, 6).all())  # All should be True\n",
    "print(cleaned_data['weathersit'].unique())     # Usually [1, 2, 3, 4]"
   ]
  },
  {
   "cell_type": "code",
   "execution_count": 36,
   "id": "4d423afc-4618-4368-8a24-edd9e70ec990",
   "metadata": {},
   "outputs": [
    {
     "name": "stdout",
     "output_type": "stream",
     "text": [
      "True\n"
     ]
    }
   ],
   "source": [
    "# Registered + casual should equal cnt i.e. True\n",
    "print((cleaned_data['registered'] + cleaned_data['casual'] == cleaned_data['cnt']).all())"
   ]
  },
  {
   "cell_type": "code",
   "execution_count": 37,
   "id": "628e196c-b956-4dda-a9bc-0793ce9fc1b5",
   "metadata": {},
   "outputs": [
    {
     "name": "stdout",
     "output_type": "stream",
     "text": [
      "temp          False\n",
      "hum           False\n",
      "windspeed     False\n",
      "casual        False\n",
      "registered    False\n",
      "cnt           False\n",
      "dtype: bool\n"
     ]
    }
   ],
   "source": [
    "#Check for negative values in numeric features, should return all False for this check\n",
    "print((cleaned_data[['temp', 'hum', 'windspeed', 'casual', 'registered', 'cnt']] < 0).any())"
   ]
  },
  {
   "cell_type": "code",
   "execution_count": 38,
   "id": "8805635f-d080-4621-8ce3-550eed061b92",
   "metadata": {},
   "outputs": [
    {
     "name": "stdout",
     "output_type": "stream",
     "text": [
      "Mean values:\n",
      " instant       305.500000\n",
      "season          1.000000\n",
      "yr              0.000000\n",
      "mnth            1.000000\n",
      "hr             11.795082\n",
      "holiday         0.039344\n",
      "weekday         2.977049\n",
      "weathersit      1.477049\n",
      "temp            0.196885\n",
      "hum             0.562475\n",
      "windspeed       0.204851\n",
      "casual          4.501639\n",
      "registered     51.068852\n",
      "cnt            55.570492\n",
      "dtype: float64\n"
     ]
    }
   ],
   "source": [
    "mean_values = cleaned_data.mean(numeric_only=True)\n",
    "print(\"Mean values:\\n\", mean_values)"
   ]
  },
  {
   "cell_type": "code",
   "execution_count": 39,
   "id": "709e12e9-3194-49ac-8b8c-14f2ae7db586",
   "metadata": {},
   "outputs": [
    {
     "name": "stdout",
     "output_type": "stream",
     "text": [
      "\n",
      "Median values:\n",
      " instant       305.500\n",
      "season          1.000\n",
      "yr              0.000\n",
      "mnth            1.000\n",
      "hr             12.000\n",
      "holiday         0.000\n",
      "weekday         3.000\n",
      "weathersit      1.000\n",
      "temp            0.200\n",
      "hum             0.520\n",
      "windspeed       0.194\n",
      "casual          2.000\n",
      "registered     43.000\n",
      "cnt            47.000\n",
      "dtype: float64\n"
     ]
    }
   ],
   "source": [
    "median_values = cleaned_data.median(numeric_only=True)\n",
    "print(\"\\nMedian values:\\n\", median_values)"
   ]
  },
  {
   "cell_type": "code",
   "execution_count": 40,
   "id": "1a126dd9-c016-47cc-865c-4337dc3ec047",
   "metadata": {},
   "outputs": [
    {
     "name": "stdout",
     "output_type": "stream",
     "text": [
      "\n",
      "Mode values:\n",
      "      instant  season   yr  mnth    hr holiday  weekday  weathersit  temp  \\\n",
      "0          1     1.0  0.0   1.0  12.0   False      6.0         1.0   0.2   \n",
      "1          2     NaN  NaN   NaN  13.0     NaN      NaN         NaN   NaN   \n",
      "2          3     NaN  NaN   NaN  14.0     NaN      NaN         NaN   NaN   \n",
      "3          4     NaN  NaN   NaN  15.0     NaN      NaN         NaN   NaN   \n",
      "4          5     NaN  NaN   NaN  16.0     NaN      NaN         NaN   NaN   \n",
      "..       ...     ...  ...   ...   ...     ...      ...         ...   ...   \n",
      "605      606     NaN  NaN   NaN   NaN     NaN      NaN         NaN   NaN   \n",
      "606      607     NaN  NaN   NaN   NaN     NaN      NaN         NaN   NaN   \n",
      "607      608     NaN  NaN   NaN   NaN     NaN      NaN         NaN   NaN   \n",
      "608      609     NaN  NaN   NaN   NaN     NaN      NaN         NaN   NaN   \n",
      "609      610     NaN  NaN   NaN   NaN     NaN      NaN         NaN   NaN   \n",
      "\n",
      "      hum  windspeed  casual  registered  cnt  \n",
      "0    0.47     0.1642     0.0         1.0  1.0  \n",
      "1     NaN        NaN     NaN         NaN  NaN  \n",
      "2     NaN        NaN     NaN         NaN  NaN  \n",
      "3     NaN        NaN     NaN         NaN  NaN  \n",
      "4     NaN        NaN     NaN         NaN  NaN  \n",
      "..    ...        ...     ...         ...  ...  \n",
      "605   NaN        NaN     NaN         NaN  NaN  \n",
      "606   NaN        NaN     NaN         NaN  NaN  \n",
      "607   NaN        NaN     NaN         NaN  NaN  \n",
      "608   NaN        NaN     NaN         NaN  NaN  \n",
      "609   NaN        NaN     NaN         NaN  NaN  \n",
      "\n",
      "[610 rows x 14 columns]\n"
     ]
    }
   ],
   "source": [
    "mode_values = cleaned_data.mode(numeric_only=True)\n",
    "print(\"\\nMode values:\\n\", mode_values)"
   ]
  },
  {
   "cell_type": "code",
   "execution_count": 41,
   "id": "c6d26556-b9bb-49c0-a0a1-d67339d8223a",
   "metadata": {},
   "outputs": [
    {
     "name": "stdout",
     "output_type": "stream",
     "text": [
      "\n",
      "Central Tendency Summary:\n",
      "                   Mean   Median    Mode\n",
      "instant     305.500000  305.500       1\n",
      "season        1.000000    1.000     1.0\n",
      "yr            0.000000    0.000     0.0\n",
      "mnth          1.000000    1.000     1.0\n",
      "hr           11.795082   12.000    12.0\n",
      "holiday       0.039344    0.000   False\n",
      "weekday       2.977049    3.000     6.0\n",
      "weathersit    1.477049    1.000     1.0\n",
      "temp          0.196885    0.200     0.2\n",
      "hum           0.562475    0.520    0.47\n",
      "windspeed     0.204851    0.194  0.1642\n",
      "casual        4.501639    2.000     0.0\n",
      "registered   51.068852   43.000     1.0\n",
      "cnt          55.570492   47.000     1.0\n"
     ]
    }
   ],
   "source": [
    "summary = pd.DataFrame({\n",
    "    'Mean': mean_values,\n",
    "    'Median': median_values,\n",
    "    'Mode': mode_values.iloc[0]\n",
    "})\n",
    "print(\"\\nCentral Tendency Summary:\\n\", summary)"
   ]
  },
  {
   "cell_type": "code",
   "execution_count": 42,
   "id": "bae9dabe-faba-48c0-93b8-7673a04a0c47",
   "metadata": {},
   "outputs": [],
   "source": [
    "combine_data = cleaned_data"
   ]
  },
  {
   "cell_type": "code",
   "execution_count": 43,
   "id": "bcad3abb-09c8-48e7-af88-c3bf89dc7765",
   "metadata": {},
   "outputs": [
    {
     "data": {
      "text/html": [
       "<div>\n",
       "<style scoped>\n",
       "    .dataframe tbody tr th:only-of-type {\n",
       "        vertical-align: middle;\n",
       "    }\n",
       "\n",
       "    .dataframe tbody tr th {\n",
       "        vertical-align: top;\n",
       "    }\n",
       "\n",
       "    .dataframe thead th {\n",
       "        text-align: right;\n",
       "    }\n",
       "</style>\n",
       "<table border=\"1\" class=\"dataframe\">\n",
       "  <thead>\n",
       "    <tr style=\"text-align: right;\">\n",
       "      <th></th>\n",
       "      <th>instant</th>\n",
       "      <th>dteday</th>\n",
       "      <th>season</th>\n",
       "      <th>yr</th>\n",
       "      <th>mnth</th>\n",
       "      <th>hr</th>\n",
       "      <th>holiday</th>\n",
       "      <th>weekday</th>\n",
       "      <th>weathersit</th>\n",
       "      <th>temp</th>\n",
       "      <th>hum</th>\n",
       "      <th>windspeed</th>\n",
       "      <th>casual</th>\n",
       "      <th>registered</th>\n",
       "      <th>cnt</th>\n",
       "    </tr>\n",
       "  </thead>\n",
       "  <tbody>\n",
       "    <tr>\n",
       "      <th>0</th>\n",
       "      <td>1</td>\n",
       "      <td>2011-01-01</td>\n",
       "      <td>1</td>\n",
       "      <td>0</td>\n",
       "      <td>1</td>\n",
       "      <td>0</td>\n",
       "      <td>False</td>\n",
       "      <td>6</td>\n",
       "      <td>1</td>\n",
       "      <td>0.24</td>\n",
       "      <td>0.81</td>\n",
       "      <td>0.0</td>\n",
       "      <td>3</td>\n",
       "      <td>13</td>\n",
       "      <td>16</td>\n",
       "    </tr>\n",
       "    <tr>\n",
       "      <th>1</th>\n",
       "      <td>2</td>\n",
       "      <td>2011-01-01</td>\n",
       "      <td>1</td>\n",
       "      <td>0</td>\n",
       "      <td>1</td>\n",
       "      <td>1</td>\n",
       "      <td>False</td>\n",
       "      <td>6</td>\n",
       "      <td>1</td>\n",
       "      <td>0.22</td>\n",
       "      <td>0.80</td>\n",
       "      <td>0.0</td>\n",
       "      <td>8</td>\n",
       "      <td>32</td>\n",
       "      <td>40</td>\n",
       "    </tr>\n",
       "    <tr>\n",
       "      <th>2</th>\n",
       "      <td>3</td>\n",
       "      <td>2011-01-01</td>\n",
       "      <td>1</td>\n",
       "      <td>0</td>\n",
       "      <td>1</td>\n",
       "      <td>2</td>\n",
       "      <td>False</td>\n",
       "      <td>6</td>\n",
       "      <td>1</td>\n",
       "      <td>0.22</td>\n",
       "      <td>0.80</td>\n",
       "      <td>0.0</td>\n",
       "      <td>5</td>\n",
       "      <td>27</td>\n",
       "      <td>32</td>\n",
       "    </tr>\n",
       "    <tr>\n",
       "      <th>3</th>\n",
       "      <td>4</td>\n",
       "      <td>2011-01-01</td>\n",
       "      <td>1</td>\n",
       "      <td>0</td>\n",
       "      <td>1</td>\n",
       "      <td>3</td>\n",
       "      <td>False</td>\n",
       "      <td>6</td>\n",
       "      <td>1</td>\n",
       "      <td>0.24</td>\n",
       "      <td>0.75</td>\n",
       "      <td>0.0</td>\n",
       "      <td>3</td>\n",
       "      <td>10</td>\n",
       "      <td>13</td>\n",
       "    </tr>\n",
       "    <tr>\n",
       "      <th>4</th>\n",
       "      <td>5</td>\n",
       "      <td>2011-01-01</td>\n",
       "      <td>1</td>\n",
       "      <td>0</td>\n",
       "      <td>1</td>\n",
       "      <td>4</td>\n",
       "      <td>False</td>\n",
       "      <td>6</td>\n",
       "      <td>1</td>\n",
       "      <td>0.24</td>\n",
       "      <td>0.75</td>\n",
       "      <td>0.0</td>\n",
       "      <td>0</td>\n",
       "      <td>1</td>\n",
       "      <td>1</td>\n",
       "    </tr>\n",
       "  </tbody>\n",
       "</table>\n",
       "</div>"
      ],
      "text/plain": [
       "   instant     dteday  season  yr  mnth  hr  holiday  weekday  weathersit  \\\n",
       "0        1 2011-01-01       1   0     1   0    False        6           1   \n",
       "1        2 2011-01-01       1   0     1   1    False        6           1   \n",
       "2        3 2011-01-01       1   0     1   2    False        6           1   \n",
       "3        4 2011-01-01       1   0     1   3    False        6           1   \n",
       "4        5 2011-01-01       1   0     1   4    False        6           1   \n",
       "\n",
       "   temp   hum  windspeed  casual  registered  cnt  \n",
       "0  0.24  0.81        0.0       3          13   16  \n",
       "1  0.22  0.80        0.0       8          32   40  \n",
       "2  0.22  0.80        0.0       5          27   32  \n",
       "3  0.24  0.75        0.0       3          10   13  \n",
       "4  0.24  0.75        0.0       0           1    1  "
      ]
     },
     "execution_count": 43,
     "metadata": {},
     "output_type": "execute_result"
    }
   ],
   "source": [
    "combine_data.head()"
   ]
  },
  {
   "cell_type": "code",
   "execution_count": 45,
   "id": "ddbb6461-6bfb-4a75-a427-ff6122cf59d2",
   "metadata": {},
   "outputs": [],
   "source": [
    "dataset3 = pd.read_excel(\"dataset_3.xlsx\")"
   ]
  },
  {
   "cell_type": "code",
   "execution_count": 46,
   "id": "ec79b579-5165-4f8e-9383-53f8301f79d9",
   "metadata": {},
   "outputs": [
    {
     "name": "stdout",
     "output_type": "stream",
     "text": [
      "Dataset 3 preview:\n",
      "   instant     dteday  season  yr  mnth  hr  holiday  weekday  weathersit  \\\n",
      "0      620 2011-01-29       1   0     1   1    False        6           1   \n",
      "1      621 2011-01-29       1   0     1   2    False        6           1   \n",
      "2      622 2011-01-29       1   0     1   3    False        6           1   \n",
      "3      623 2011-01-29       1   0     1   4    False        6           1   \n",
      "4      624 2011-01-29       1   0     1   6    False        6           1   \n",
      "\n",
      "   temp   atemp   hum  windspeed  casual  registered  cnt  \n",
      "0  0.22  0.2273  0.64     0.1940       0          20   20  \n",
      "1  0.22  0.2273  0.64     0.1642       0          15   15  \n",
      "2  0.20  0.2121  0.64     0.1343       3           5    8  \n",
      "3  0.16  0.1818  0.69     0.1045       1           2    3  \n",
      "4  0.16  0.1818  0.64     0.1343       0           2    2   \n",
      "\n"
     ]
    }
   ],
   "source": [
    "print(\"Dataset 3 preview:\")\n",
    "print(dataset3.head(), \"\\n\")"
   ]
  },
  {
   "cell_type": "code",
   "execution_count": 47,
   "id": "8e619083-1b6c-459e-a243-815df0812ab1",
   "metadata": {},
   "outputs": [
    {
     "name": "stdout",
     "output_type": "stream",
     "text": [
      "Missing values in Combine Dataset:\n",
      "instant       0\n",
      "dteday        0\n",
      "season        0\n",
      "yr            0\n",
      "mnth          0\n",
      "hr            0\n",
      "holiday       0\n",
      "weekday       0\n",
      "weathersit    0\n",
      "temp          0\n",
      "hum           0\n",
      "windspeed     0\n",
      "casual        0\n",
      "registered    0\n",
      "cnt           0\n",
      "dtype: int64 \n",
      "\n"
     ]
    }
   ],
   "source": [
    "print(\"Missing values in Combine Dataset:\")\n",
    "print(combine_data.isnull().sum(), \"\\n\")"
   ]
  },
  {
   "cell_type": "code",
   "execution_count": 48,
   "id": "57e3e381-22a2-43fe-aab5-3d2d0174ad16",
   "metadata": {},
   "outputs": [
    {
     "name": "stdout",
     "output_type": "stream",
     "text": [
      "Missing values in Dataset3:\n",
      "instant       0\n",
      "dteday        0\n",
      "season        0\n",
      "yr            0\n",
      "mnth          0\n",
      "hr            0\n",
      "holiday       0\n",
      "weekday       0\n",
      "weathersit    0\n",
      "temp          0\n",
      "atemp         0\n",
      "hum           0\n",
      "windspeed     0\n",
      "casual        0\n",
      "registered    0\n",
      "cnt           0\n",
      "dtype: int64 \n",
      "\n"
     ]
    }
   ],
   "source": [
    "print(\"Missing values in Dataset3:\")\n",
    "print(dataset3.isnull().sum(), \"\\n\")"
   ]
  },
  {
   "cell_type": "code",
   "execution_count": 49,
   "id": "1f36b0e4-4e34-47f4-912f-91382c748288",
   "metadata": {},
   "outputs": [
    {
     "name": "stdout",
     "output_type": "stream",
     "text": [
      "CombineDataset columns: ['instant', 'dteday', 'season', 'yr', 'mnth', 'hr', 'holiday', 'weekday', 'weathersit', 'temp', 'hum', 'windspeed', 'casual', 'registered', 'cnt']\n",
      "Dataset3 columns: ['instant', 'dteday', 'season', 'yr', 'mnth', 'hr', 'holiday', 'weekday', 'weathersit', 'temp', 'atemp', 'hum', 'windspeed', 'casual', 'registered', 'cnt']\n"
     ]
    }
   ],
   "source": [
    "print(\"CombineDataset columns:\", combine_data.columns.tolist())\n",
    "print(\"Dataset3 columns:\", dataset3.columns.tolist())"
   ]
  },
  {
   "cell_type": "code",
   "execution_count": 50,
   "id": "8b496ede-bcf9-40f2-a73d-631f562d09fe",
   "metadata": {},
   "outputs": [],
   "source": [
    "# Concatenate row-wise, handling missing columns (like 'atemp' in CombineDataset)\n",
    "combined_all_df = pd.concat([combine_data, dataset3], ignore_index=True, sort=False)\n"
   ]
  },
  {
   "cell_type": "code",
   "execution_count": 51,
   "id": "a7ea7aba-8dff-444b-ba67-468f45186a1c",
   "metadata": {},
   "outputs": [],
   "source": [
    "combined_all_df.to_csv('FinalCombinedDataset.csv', index=False)"
   ]
  },
  {
   "cell_type": "code",
   "execution_count": 52,
   "id": "141969ce-d56a-4fba-b76c-98259e216fc2",
   "metadata": {},
   "outputs": [],
   "source": [
    "#Convert 'dteday' to datetime\n",
    "combined_all_df['dteday'] = pd.to_datetime(combined_all_df['dteday'], errors='coerce')\n",
    "\n",
    "\n"
   ]
  },
  {
   "cell_type": "code",
   "execution_count": 53,
   "id": "bd28b6c3-7e55-4387-841f-e0f3b42b10b8",
   "metadata": {},
   "outputs": [],
   "source": [
    "combined_df = combined_all_df.drop_duplicates()"
   ]
  },
  {
   "cell_type": "code",
   "execution_count": 54,
   "id": "0333a638-7d1b-4481-9f3f-44374c4c877b",
   "metadata": {},
   "outputs": [
    {
     "name": "stderr",
     "output_type": "stream",
     "text": [
      "C:\\Users\\DIKSHA\\AppData\\Local\\Temp\\ipykernel_11068\\1890340457.py:5: FutureWarning: A value is trying to be set on a copy of a DataFrame or Series through chained assignment using an inplace method.\n",
      "The behavior will change in pandas 3.0. This inplace method will never work because the intermediate object on which we are setting values always behaves as a copy.\n",
      "\n",
      "For example, when doing 'df[col].method(value, inplace=True)', try using 'df.method({col: value}, inplace=True)' or df[col] = df[col].method(value) instead, to perform the operation inplace on the original object.\n",
      "\n",
      "\n",
      "  combined_df[col].fillna(combined_df[col].median(), inplace=True)\n"
     ]
    }
   ],
   "source": [
    "# Handle missing values\n",
    "# Fill remaining missing numeric columns with median\n",
    "for col in combined_df.select_dtypes(include=[np.number]).columns:\n",
    "    if combined_df[col].isnull().sum() > 0:\n",
    "        combined_df[col].fillna(combined_df[col].median(), inplace=True)"
   ]
  },
  {
   "cell_type": "code",
   "execution_count": 55,
   "id": "bf4c35ae-ebff-42e9-b31d-96d36deee372",
   "metadata": {},
   "outputs": [],
   "source": [
    "# Detect and cap outliers using IQR method\n",
    "def cap_outliers(df, column):\n",
    "    Q1 = df[column].quantile(0.25)\n",
    "    Q3 = df[column].quantile(0.75)\n",
    "    IQR = Q3 - Q1\n",
    "    lower = Q1 - 1.5 * IQR\n",
    "    upper = Q3 + 1.5 * IQR\n",
    "    df[column] = np.where(df[column] < lower, lower,\n",
    "                  np.where(df[column] > upper, upper, df[column]))\n",
    "    return df"
   ]
  },
  {
   "cell_type": "code",
   "execution_count": 56,
   "id": "4d3505cc-d342-4bb4-9a22-e60f879ea683",
   "metadata": {},
   "outputs": [],
   "source": [
    "# Apply outlier capping to relevant numeric columns\n",
    "numeric_cols = ['temp', 'atemp', 'hum', 'windspeed', 'casual', 'registered', 'cnt']\n",
    "for col in numeric_cols:\n",
    "    combined_df = cap_outliers(combined_df, col)"
   ]
  },
  {
   "cell_type": "code",
   "execution_count": 57,
   "id": "8fa14a07-bfe1-41f4-9f3f-bfc8f79a86c9",
   "metadata": {},
   "outputs": [
    {
     "name": "stdout",
     "output_type": "stream",
     "text": [
      "✅ Cleaning complete. Sample data:\n",
      "   instant     dteday  season  yr  mnth  hr  holiday  weekday  weathersit  \\\n",
      "0        1 2011-01-01       1   0     1   0    False        6           1   \n",
      "1        2 2011-01-01       1   0     1   1    False        6           1   \n",
      "2        3 2011-01-01       1   0     1   2    False        6           1   \n",
      "3        4 2011-01-01       1   0     1   3    False        6           1   \n",
      "4        5 2011-01-01       1   0     1   4    False        6           1   \n",
      "\n",
      "   temp   hum  windspeed  casual  registered   cnt   atemp  \n",
      "0  0.24  0.81        0.0     3.0        13.0  16.0  0.2273  \n",
      "1  0.22  0.80        0.0     8.0        32.0  40.0  0.2273  \n",
      "2  0.22  0.80        0.0     5.0        27.0  32.0  0.2273  \n",
      "3  0.24  0.75        0.0     3.0        10.0  13.0  0.2273  \n",
      "4  0.24  0.75        0.0     0.0         1.0   1.0  0.2273  \n"
     ]
    }
   ],
   "source": [
    "# Save the cleaned dataset\n",
    "combined_df.to_csv('Cleaned_FinalCombinedDataset.csv', index=False)\n",
    "\n",
    "# Preview\n",
    "print(\"✅ Cleaning complete. Sample data:\")\n",
    "print(combined_df.head())"
   ]
  },
  {
   "cell_type": "code",
   "execution_count": 58,
   "id": "fa5ffe7e-50bd-4cc4-b4a4-d48b0537a205",
   "metadata": {},
   "outputs": [],
   "source": [
    "skewness = combined_df.skew(numeric_only=True)"
   ]
  },
  {
   "cell_type": "code",
   "execution_count": 59,
   "id": "10077105-41b3-484c-9879-98fd2a77dbeb",
   "metadata": {},
   "outputs": [
    {
     "name": "stdout",
     "output_type": "stream",
     "text": [
      "Skewness of numeric columns:\n",
      "instant       0.000000\n",
      "season        0.000000\n",
      "yr            0.000000\n",
      "mnth          0.812772\n",
      "hr           -0.063524\n",
      "holiday       6.229578\n",
      "weekday       0.021925\n",
      "weathersit    1.044098\n",
      "temp          0.236535\n",
      "hum           0.436893\n",
      "windspeed     0.416636\n",
      "casual        1.212739\n",
      "registered    0.944900\n",
      "cnt           0.937439\n",
      "atemp         0.000000\n",
      "dtype: float64\n"
     ]
    }
   ],
   "source": [
    "print(\"Skewness of numeric columns:\")\n",
    "print(skewness)"
   ]
  },
  {
   "cell_type": "code",
   "execution_count": 60,
   "id": "1214b6ae-82c0-4023-9885-b8b23f815dfe",
   "metadata": {},
   "outputs": [],
   "source": [
    "correlation_matrix = combined_df.corr(numeric_only=True)"
   ]
  },
  {
   "cell_type": "code",
   "execution_count": 61,
   "id": "b222b08b-68b7-4fb3-89ee-895395e770e9",
   "metadata": {},
   "outputs": [
    {
     "name": "stdout",
     "output_type": "stream",
     "text": [
      "Correlation matrix:\n",
      "             instant  season  yr      mnth        hr   holiday   weekday  \\\n",
      "instant     1.000000     NaN NaN  0.802477  0.000060 -0.063013  0.008157   \n",
      "season           NaN     NaN NaN       NaN       NaN       NaN       NaN   \n",
      "yr               NaN     NaN NaN       NaN       NaN       NaN       NaN   \n",
      "mnth        0.802477     NaN NaN  1.000000 -0.025646 -0.105600  0.034710   \n",
      "hr          0.000060     NaN NaN -0.025646  1.000000 -0.005753  0.007531   \n",
      "holiday    -0.063013     NaN NaN -0.105600 -0.005753  1.000000 -0.148682   \n",
      "weekday     0.008157     NaN NaN  0.034710  0.007531 -0.148682  1.000000   \n",
      "weathersit  0.030439     NaN NaN  0.014061 -0.055802  0.165443  0.060007   \n",
      "temp        0.046135     NaN NaN  0.173477  0.212293 -0.060243 -0.083562   \n",
      "hum         0.062116     NaN NaN  0.066587 -0.194853 -0.037542  0.062469   \n",
      "windspeed  -0.058050     NaN NaN -0.029338  0.116718 -0.000969 -0.057247   \n",
      "casual      0.022284     NaN NaN  0.030412  0.286666  0.019666 -0.030732   \n",
      "registered  0.077648     NaN NaN  0.074789  0.388103 -0.054316  0.021644   \n",
      "cnt         0.081803     NaN NaN  0.082898  0.383688 -0.051063  0.011656   \n",
      "atemp            NaN     NaN NaN       NaN       NaN       NaN       NaN   \n",
      "\n",
      "            weathersit      temp       hum  windspeed    casual  registered  \\\n",
      "instant       0.030439  0.046135  0.062116  -0.058050  0.022284    0.077648   \n",
      "season             NaN       NaN       NaN        NaN       NaN         NaN   \n",
      "yr                 NaN       NaN       NaN        NaN       NaN         NaN   \n",
      "mnth          0.014061  0.173477  0.066587  -0.029338  0.030412    0.074789   \n",
      "hr           -0.055802  0.212293 -0.194853   0.116718  0.286666    0.388103   \n",
      "holiday       0.165443 -0.060243 -0.037542  -0.000969  0.019666   -0.054316   \n",
      "weekday       0.060007 -0.083562  0.062469  -0.057247 -0.030732    0.021644   \n",
      "weathersit    1.000000  0.098197  0.539402  -0.177446 -0.110069   -0.124772   \n",
      "temp          0.098197  1.000000  0.067447   0.112657  0.473698    0.198988   \n",
      "hum           0.539402  0.067447  1.000000  -0.385275 -0.297555   -0.247171   \n",
      "windspeed    -0.177446  0.112657 -0.385275   1.000000  0.114497    0.099730   \n",
      "casual       -0.110069  0.473698 -0.297555   0.114497  1.000000    0.431884   \n",
      "registered   -0.124772  0.198988 -0.247171   0.099730  0.431884    1.000000   \n",
      "cnt          -0.129765  0.253200 -0.265826   0.110814  0.527755    0.989682   \n",
      "atemp              NaN       NaN       NaN        NaN       NaN         NaN   \n",
      "\n",
      "                 cnt  atemp  \n",
      "instant     0.081803    NaN  \n",
      "season           NaN    NaN  \n",
      "yr               NaN    NaN  \n",
      "mnth        0.082898    NaN  \n",
      "hr          0.383688    NaN  \n",
      "holiday    -0.051063    NaN  \n",
      "weekday     0.011656    NaN  \n",
      "weathersit -0.129765    NaN  \n",
      "temp        0.253200    NaN  \n",
      "hum        -0.265826    NaN  \n",
      "windspeed   0.110814    NaN  \n",
      "casual      0.527755    NaN  \n",
      "registered  0.989682    NaN  \n",
      "cnt         1.000000    NaN  \n",
      "atemp            NaN    NaN  \n"
     ]
    }
   ],
   "source": [
    "print(\"Correlation matrix:\")\n",
    "print(correlation_matrix)"
   ]
  }
 ],
 "metadata": {
  "kernelspec": {
   "display_name": "Python 3",
   "language": "python",
   "name": "python3"
  },
  "language_info": {
   "codemirror_mode": {
    "name": "ipython",
    "version": 3
   },
   "file_extension": ".py",
   "mimetype": "text/x-python",
   "name": "python",
   "nbconvert_exporter": "python",
   "pygments_lexer": "ipython3",
   "version": "3.9.13"
  }
 },
 "nbformat": 4,
 "nbformat_minor": 5
}
